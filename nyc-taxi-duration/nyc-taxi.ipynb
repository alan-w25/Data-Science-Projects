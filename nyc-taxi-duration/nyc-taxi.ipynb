{
 "cells": [
  {
   "cell_type": "markdown",
   "metadata": {},
   "source": [
    "<h1>NYC Taxi Duration Analysis<h1>"
   ]
  },
  {
   "cell_type": "markdown",
   "metadata": {},
   "source": [
    "The NYC Taxi Duration dataset was used as a Kaggle competition in the past. I want to use this as practice on a dataset with a large amount of data (over 1 million records)"
   ]
  },
  {
   "cell_type": "markdown",
   "metadata": {},
   "source": [
    "<h2>Problem Statements and Questions<h2>"
   ]
  },
  {
   "cell_type": "markdown",
   "metadata": {},
   "source": [
    "In NYC, Taxi travel is one of the few forms of public transportation, including subways, uber, and systems like citibike. The main objective of this challenge is to estimate the duration of a taxi trip based on geographical data such as the pickup and drop off location, time of day, day of week, and weather conditions. Here are some other questions that we aim to answer by the end of the project: \n",
    "1. What are the average, median, and distribution of taxi trip durations in NYC? \n",
    "1. How do trip durations vary by time of day? \n",
    "1. Which factors (e.g., pickup location, dropoff location, time of day, day of the week) are most predictive of taxi trip duration?\n",
    "1. How does the duration of trips to and from airports (e.g., JFK, LaGuardia) compare to other trips?\n",
    "1. What are the most common routes taken by taxis, and how do their durations compare?\n",
    "1. How does inclement weather (e.g., heavy rain, snowstorms) affect taxi trip duration?\n",
    "1. Are there any significant differences in trip duration across different boroughs of NYC (e.g., Manhattan vs. Brooklyn)?\n",
    "1. How does the introduction of bike lanes or pedestrian zones impact taxi trip durations in certain areas?\n",
    "1. What are the longest and shortest taxi trips recorded, and what are their characteristics?\n",
    "1. How does traffic congestion data correlate with taxi trip durations?\n",
    "1. Can we identify any trends or patterns in trip durations over the years (e.g., before and after the implementation of ride-sharing services)?\n",
    "1. How do taxi trip durations change during major city events (e.g., New Year’s Eve, marathons, parades)?\n",
    "1. What are the peak hours for long vs. short taxi trips?\n",
    "1. How do fare structures (e.g., flat rate vs. metered rate) impact trip duration?\n",
    "1. Can we build a real-time prediction model to estimate the duration of a taxi trip as it progresses, using live data inputs?\n"
   ]
  },
  {
   "cell_type": "markdown",
   "metadata": {},
   "source": [
    "## Imports"
   ]
  },
  {
   "cell_type": "code",
   "execution_count": 1,
   "metadata": {},
   "outputs": [],
   "source": [
    "import pandas as pd \n",
    "import numpy as np \n",
    "import matplotlib.pyplot as plt\n",
    "import seaborn as sns \n",
    "from pyspark.sql import SparkSession"
   ]
  },
  {
   "cell_type": "markdown",
   "metadata": {},
   "source": [
    "# Part 1: Data Ingestion"
   ]
  },
  {
   "cell_type": "code",
   "execution_count": 2,
   "metadata": {},
   "outputs": [
    {
     "name": "stderr",
     "output_type": "stream",
     "text": [
      "Setting default log level to \"WARN\".\n",
      "To adjust logging level use sc.setLogLevel(newLevel). For SparkR, use setLogLevel(newLevel).\n",
      "24/07/10 16:34:53 WARN NativeCodeLoader: Unable to load native-hadoop library for your platform... using builtin-java classes where applicable\n"
     ]
    }
   ],
   "source": [
    "spark = SparkSession.builder.getOrCreate()"
   ]
  },
  {
   "cell_type": "code",
   "execution_count": 25,
   "metadata": {},
   "outputs": [
    {
     "name": "stderr",
     "output_type": "stream",
     "text": [
      "[Stage 43:=====================>                                    (3 + 5) / 8]\r"
     ]
    },
    {
     "name": "stdout",
     "output_type": "stream",
     "text": [
      "+---------+---------+-------------------+-------------------+---------------+------------------+------------------+------------------+------------------+------------------+-------------+\n",
      "|       id|vendor_id|    pickup_datetime|   dropoff_datetime|passenger_count|  pickup_longitude|   pickup_latitude| dropoff_longitude|  dropoff_latitude|store_and_fwd_flag|trip_duration|\n",
      "+---------+---------+-------------------+-------------------+---------------+------------------+------------------+------------------+------------------+------------------+-------------+\n",
      "|id2875421|        2|2016-03-14 17:24:55|2016-03-14 17:32:30|              1| -73.9821548461914| 40.76793670654297|-73.96463012695312|40.765602111816406|                 N|          455|\n",
      "|id2377394|        1|2016-06-12 00:43:35|2016-06-12 00:54:38|              1|-73.98041534423828|40.738563537597656|-73.99948120117188| 40.73115158081055|                 N|          663|\n",
      "|id3858529|        2|2016-01-19 11:35:24|2016-01-19 12:10:48|              1| -73.9790267944336|40.763938903808594|-74.00533294677734|40.710086822509766|                 N|         2124|\n",
      "|id3504673|        2|2016-04-06 19:32:31|2016-04-06 19:39:40|              1|-74.01004028320312|   40.719970703125|-74.01226806640625| 40.70671844482422|                 N|          429|\n",
      "|id2181028|        2|2016-03-26 13:30:55|2016-03-26 13:38:10|              1|-73.97305297851562|40.793209075927734| -73.9729232788086| 40.78252029418945|                 N|          435|\n",
      "+---------+---------+-------------------+-------------------+---------------+------------------+------------------+------------------+------------------+------------------+-------------+\n",
      "only showing top 5 rows\n",
      "\n"
     ]
    },
    {
     "name": "stderr",
     "output_type": "stream",
     "text": [
      "                                                                                \r"
     ]
    }
   ],
   "source": [
    "data_path = \"./data/train.csv\"\n",
    "df = spark.read.csv(data_path, header=True, inferSchema=True)\n",
    "df.show(5)"
   ]
  },
  {
   "cell_type": "markdown",
   "metadata": {},
   "source": [
    "# Part 2: EDA and Data Analysis"
   ]
  },
  {
   "cell_type": "markdown",
   "metadata": {},
   "source": [
    "Before we do any modeling and data transformation (adding variables and such, we can do some analysis on the base dataset itself)\n",
    "\n",
    "1. What are the average, median, and range of taxi trip durations?\n",
    "1. What is the distribution of taxi trip durations? Are there any outliers?\n",
    "1. What is the average number of passengers per trip?"
   ]
  },
  {
   "cell_type": "markdown",
   "metadata": {},
   "source": [
    "Temporal Analysis:\n",
    "1. How do trip durations vary by time of day (e.g., morning vs. evening)?\n",
    "1. How do trip durations vary by day of the week?\n",
    "1. Are there any seasonal trends in trip durations?\n",
    "1. What are the peak hours for taxi pickups and dropoffs?\n",
    "1. How does the trip count vary by month?\n"
   ]
  },
  {
   "cell_type": "markdown",
   "metadata": {},
   "source": [
    "Spatial Analysis:\n",
    "1. What are the most common pickup and dropoff locations?\n",
    "1. How do trip durations vary by pickup and dropoff locations?\n",
    "1. What is the average trip distance, and how does it correlate with trip duration?\n",
    "1. Which areas have the highest concentration of taxi activity?\n"
   ]
  },
  {
   "cell_type": "markdown",
   "metadata": {},
   "source": [
    "Passenger Analysis:\n",
    "1. How does the number of passengers affect trip duration?\n",
    "1. What is the distribution of trips by passenger count?\n"
   ]
  },
  {
   "cell_type": "markdown",
   "metadata": {},
   "source": [
    "First check for missing values"
   ]
  },
  {
   "cell_type": "code",
   "execution_count": 26,
   "metadata": {},
   "outputs": [
    {
     "name": "stderr",
     "output_type": "stream",
     "text": [
      "                                                                                \r"
     ]
    },
    {
     "name": "stdout",
     "output_type": "stream",
     "text": [
      "Number of missing values in id: 0\n",
      "Number of missing values in vendor_id: 0\n"
     ]
    },
    {
     "name": "stderr",
     "output_type": "stream",
     "text": [
      "                                                                                \r"
     ]
    },
    {
     "name": "stdout",
     "output_type": "stream",
     "text": [
      "Number of missing values in pickup_datetime: 0\n"
     ]
    },
    {
     "name": "stderr",
     "output_type": "stream",
     "text": [
      "                                                                                \r"
     ]
    },
    {
     "name": "stdout",
     "output_type": "stream",
     "text": [
      "Number of missing values in dropoff_datetime: 0\n",
      "Number of missing values in passenger_count: 0\n",
      "Number of missing values in pickup_longitude: 0\n",
      "Number of missing values in pickup_latitude: 0\n"
     ]
    },
    {
     "name": "stderr",
     "output_type": "stream",
     "text": [
      "                                                                                \r"
     ]
    },
    {
     "name": "stdout",
     "output_type": "stream",
     "text": [
      "Number of missing values in dropoff_longitude: 0\n",
      "Number of missing values in dropoff_latitude: 0\n",
      "Number of missing values in store_and_fwd_flag: 0\n",
      "Number of missing values in trip_duration: 0\n"
     ]
    }
   ],
   "source": [
    "for col in df.columns: \n",
    "    print(f\"Number of missing values in {col}: {df.filter(df[col].isNull()).count()}\")"
   ]
  },
  {
   "cell_type": "markdown",
   "metadata": {},
   "source": [
    "No missing values. Check the description of the columns + types"
   ]
  },
  {
   "cell_type": "code",
   "execution_count": 5,
   "metadata": {},
   "outputs": [
    {
     "data": {
      "text/plain": [
       "['id',\n",
       " 'vendor_id',\n",
       " 'pickup_datetime',\n",
       " 'dropoff_datetime',\n",
       " 'passenger_count',\n",
       " 'pickup_longitude',\n",
       " 'pickup_latitude',\n",
       " 'dropoff_longitude',\n",
       " 'dropoff_latitude',\n",
       " 'store_and_fwd_flag',\n",
       " 'trip_duration']"
      ]
     },
     "execution_count": 5,
     "metadata": {},
     "output_type": "execute_result"
    }
   ],
   "source": [
    "df.columns"
   ]
  },
  {
   "cell_type": "code",
   "execution_count": 6,
   "metadata": {},
   "outputs": [
    {
     "name": "stdout",
     "output_type": "stream",
     "text": [
      "root\n",
      " |-- id: string (nullable = true)\n",
      " |-- vendor_id: integer (nullable = true)\n",
      " |-- pickup_datetime: timestamp (nullable = true)\n",
      " |-- dropoff_datetime: timestamp (nullable = true)\n",
      " |-- passenger_count: integer (nullable = true)\n",
      " |-- pickup_longitude: double (nullable = true)\n",
      " |-- pickup_latitude: double (nullable = true)\n",
      " |-- dropoff_longitude: double (nullable = true)\n",
      " |-- dropoff_latitude: double (nullable = true)\n",
      " |-- store_and_fwd_flag: string (nullable = true)\n",
      " |-- trip_duration: integer (nullable = true)\n",
      "\n"
     ]
    }
   ],
   "source": [
    "df.printSchema()"
   ]
  },
  {
   "cell_type": "markdown",
   "metadata": {},
   "source": [
    "<h2>Column Descriptions<h2>"
   ]
  },
  {
   "cell_type": "markdown",
   "metadata": {},
   "source": [
    "- id - a unique identifier for each trip\n",
    "- vendor_id - a code indicating the provider associated with the trip record\n",
    "- pickup_datetime - date and time when the meter was engaged\n",
    "- dropoff_datetime - date and time when the meter was disengaged\n",
    "- passenger_count - the number of passengers in the vehicle (driver entered value)\n",
    "- pickup_longitude - the longitude where the meter was engaged\n",
    "- pickup_latitude - the latitude where the meter was engaged\n",
    "- dropoff_longitude - the longitude where the meter was disengaged\n",
    "- dropoff_latitude - the latitude where the meter was disengaged\n",
    "- store_and_fwd_flag - This flag indicates whether the trip record was held in vehicle memory before sending to the vendor because the vehicle did not have a connection to the server - Y=store and forward; N=not a store and forward trip\n",
    "- trip_duration - duration of the trip in seconds\n"
   ]
  },
  {
   "cell_type": "code",
   "execution_count": 7,
   "metadata": {},
   "outputs": [
    {
     "name": "stderr",
     "output_type": "stream",
     "text": [
      "24/07/10 16:39:02 WARN SparkStringUtils: Truncated the string representation of a plan since it was too large. This behavior can be adjusted by setting 'spark.sql.debug.maxToStringFields'.\n",
      "[Stage 36:==================================================>       (7 + 1) / 8]\r"
     ]
    },
    {
     "name": "stdout",
     "output_type": "stream",
     "text": [
      "+-------+---------+-------------------+------------------+-------------------+--------------------+-------------------+-------------------+------------------+------------------+\n",
      "|summary|       id|          vendor_id|   passenger_count|   pickup_longitude|     pickup_latitude|  dropoff_longitude|   dropoff_latitude|store_and_fwd_flag|     trip_duration|\n",
      "+-------+---------+-------------------+------------------+-------------------+--------------------+-------------------+-------------------+------------------+------------------+\n",
      "|  count|  1458644|            1458644|           1458644|            1458644|             1458644|            1458644|            1458644|           1458644|           1458644|\n",
      "|   mean|     NULL| 1.5349502688798637|1.6645295219395548| -73.97348630489282|  40.750920908391734|  -73.9734159469458|   40.7517995149002|              NULL| 959.4922729603659|\n",
      "| stddev|     NULL|0.49877715390740074| 1.314242167823115|0.07090185842270368|0.032881186257633095|0.07064326809720285|0.03589055560563716|              NULL|5237.4317244975955|\n",
      "|    min|id0000001|                  1|                 0|-121.93334197998047|   34.35969543457031|-121.93330383300781|   32.1811408996582|                 N|                 1|\n",
      "|    max|id4000000|                  2|                 9| -61.33552932739258|   51.88108444213867| -61.33552932739258|  43.92102813720703|                 Y|           3526282|\n",
      "+-------+---------+-------------------+------------------+-------------------+--------------------+-------------------+-------------------+------------------+------------------+\n",
      "\n"
     ]
    },
    {
     "name": "stderr",
     "output_type": "stream",
     "text": [
      "                                                                                \r"
     ]
    }
   ],
   "source": [
    "df.describe().show()"
   ]
  },
  {
   "cell_type": "markdown",
   "metadata": {},
   "source": [
    "## Data Transformation "
   ]
  },
  {
   "cell_type": "markdown",
   "metadata": {},
   "source": [
    "We probably need to add a few extra columns. The first thing we're going to do however is split the time, date, and add a day of the week variable in the df"
   ]
  },
  {
   "cell_type": "code",
   "execution_count": 27,
   "metadata": {},
   "outputs": [],
   "source": [
    "from pyspark.sql.functions import to_date, date_format\n",
    "df = df.withColumn(\"pickup_date\", to_date(df.pickup_datetime)) \\\n",
    "    .withColumn(\"dropoff_date\", to_date(df.dropoff_datetime)) \\\n",
    "    .withColumn(\"pickup_time\", date_format(df.pickup_datetime, \"HH:mm:ss\")) \\\n",
    "        .withColumn(\"dropoff_time\", date_format(df.dropoff_datetime, \"HH:mm:ss\")) \\\n",
    "            .withColumn(\"pickup_day_of_week\", date_format(df.pickup_datetime, \"E\")) \\\n",
    "                .withColumn(\"dropoff_day_of_week\", date_format(df.dropoff_datetime, \"E\"))\n",
    "df = df.drop(\"pickup_datetime\", \"dropoff_datetime\")"
   ]
  },
  {
   "cell_type": "markdown",
   "metadata": {},
   "source": [
    "Let's also encode the store and fwd flag as 1s and 0s instead of Y and N"
   ]
  },
  {
   "cell_type": "code",
   "execution_count": null,
   "metadata": {},
   "outputs": [],
   "source": [
    "from pyspark.sql.functions import when, col\n",
    "\n",
    "df = df.withColumn(\"store_and_fwd_flag\", when(col(\"store_and_fwd_flag\") == \"N\", 0).otherwise(1))"
   ]
  },
  {
   "cell_type": "code",
   "execution_count": 28,
   "metadata": {},
   "outputs": [
    {
     "name": "stdout",
     "output_type": "stream",
     "text": [
      "+---------+---------+---------------+------------------+------------------+------------------+------------------+------------------+-------------+-----------+------------+-----------+------------+------------------+-------------------+\n",
      "|       id|vendor_id|passenger_count|  pickup_longitude|   pickup_latitude| dropoff_longitude|  dropoff_latitude|store_and_fwd_flag|trip_duration|pickup_date|dropoff_date|pickup_time|dropoff_time|pickup_day_of_week|dropoff_day_of_week|\n",
      "+---------+---------+---------------+------------------+------------------+------------------+------------------+------------------+-------------+-----------+------------+-----------+------------+------------------+-------------------+\n",
      "|id2875421|        2|              1| -73.9821548461914| 40.76793670654297|-73.96463012695312|40.765602111816406|                 N|          455| 2016-03-14|  2016-03-14|   17:24:55|    17:32:30|               Mon|                Mon|\n",
      "|id2377394|        1|              1|-73.98041534423828|40.738563537597656|-73.99948120117188| 40.73115158081055|                 N|          663| 2016-06-12|  2016-06-12|   00:43:35|    00:54:38|               Sun|                Sun|\n",
      "|id3858529|        2|              1| -73.9790267944336|40.763938903808594|-74.00533294677734|40.710086822509766|                 N|         2124| 2016-01-19|  2016-01-19|   11:35:24|    12:10:48|               Tue|                Tue|\n",
      "|id3504673|        2|              1|-74.01004028320312|   40.719970703125|-74.01226806640625| 40.70671844482422|                 N|          429| 2016-04-06|  2016-04-06|   19:32:31|    19:39:40|               Wed|                Wed|\n",
      "|id2181028|        2|              1|-73.97305297851562|40.793209075927734| -73.9729232788086| 40.78252029418945|                 N|          435| 2016-03-26|  2016-03-26|   13:30:55|    13:38:10|               Sat|                Sat|\n",
      "+---------+---------+---------------+------------------+------------------+------------------+------------------+------------------+-------------+-----------+------------+-----------+------------+------------------+-------------------+\n",
      "only showing top 5 rows\n",
      "\n"
     ]
    }
   ],
   "source": [
    "df.show(5)"
   ]
  },
  {
   "cell_type": "markdown",
   "metadata": {},
   "source": [
    "For the sake of plotting, we need to convert our data to pandas. And also since there are so many records, we will use a representative sample of ~100k records"
   ]
  },
  {
   "cell_type": "code",
   "execution_count": null,
   "metadata": {},
   "outputs": [],
   "source": []
  },
  {
   "cell_type": "code",
   "execution_count": 8,
   "metadata": {},
   "outputs": [
    {
     "name": "stderr",
     "output_type": "stream",
     "text": [
      "                                                                                \r"
     ]
    }
   ],
   "source": [
    "df_sample = df.sample(0.1, seed=42)\n",
    "pdf = df_sample.toPandas()"
   ]
  },
  {
   "cell_type": "code",
   "execution_count": null,
   "metadata": {},
   "outputs": [],
   "source": []
  },
  {
   "cell_type": "markdown",
   "metadata": {},
   "source": [
    "## trip_duration Analysis"
   ]
  },
  {
   "cell_type": "markdown",
   "metadata": {},
   "source": [
    "Since eventually we want to predict trip_duration, we should probably take a look at that variable first"
   ]
  },
  {
   "cell_type": "code",
   "execution_count": 10,
   "metadata": {},
   "outputs": [
    {
     "name": "stdout",
     "output_type": "stream",
     "text": [
      "The mean of the target variable is: 961.1490736928778 seconds\n",
      "The median of the target variable is: 662.0 seconds\n",
      "The standard deviation of the target variable is: 3269.2974780537184 seconds\n"
     ]
    }
   ],
   "source": [
    "print(f\"The mean of the target variable is: {pdf['trip_duration'].mean()} seconds\")\n",
    "print(f\"The median of the target variable is: {pdf['trip_duration'].median()} seconds\")\n",
    "print(f\"The standard deviation of the target variable is: {pdf['trip_duration'].std()} seconds\")"
   ]
  },
  {
   "cell_type": "markdown",
   "metadata": {},
   "source": [
    "There seems to be a really wide standard deviation for the target variable. Let's visualize"
   ]
  },
  {
   "cell_type": "code",
   "execution_count": 11,
   "metadata": {},
   "outputs": [
    {
     "data": {
      "image/png": "[encoded data removed]",
      "text/plain": [
       "<Figure size 1000x600 with 1 Axes>"
      ]
     },
     "metadata": {},
     "output_type": "display_data"
    }
   ],
   "source": [
    "plt.figure(figsize=(10,6))\n",
    "plt.hist(pdf['trip_duration'], bins=20, color='blue', edgecolor='black')\n",
    "plt.title(\"Histogram of the trip duration\")\n",
    "plt.xlabel(\"Trip duration (seconds)\")\n",
    "plt.ylabel(\"Frequency\")\n",
    "plt.grid(True)\n",
    "plt.show()\n"
   ]
  },
  {
   "cell_type": "markdown",
   "metadata": {},
   "source": [
    "There are some heavy right skew, so let us take log of the trip duration"
   ]
  },
  {
   "cell_type": "code",
   "execution_count": 12,
   "metadata": {},
   "outputs": [],
   "source": [
    "pdf['trip_duration_log'] = np.log(pdf['trip_duration'] + 1)"
   ]
  },
  {
   "cell_type": "code",
   "execution_count": 13,
   "metadata": {},
   "outputs": [
    {
     "data": {
      "image/png": "[encoded data removed]",
      "text/plain": [
       "<Figure size 1000x600 with 1 Axes>"
      ]
     },
     "metadata": {},
     "output_type": "display_data"
    }
   ],
   "source": [
    "plt.figure(figsize=(10,6))\n",
    "plt.hist(pdf['trip_duration_log'], bins=20, color='blue', edgecolor='black')\n",
    "plt.title(\"Histogram of the trip duration\")\n",
    "plt.xlabel(\"Log of Trip Duration (seconds)\")\n",
    "plt.ylabel(\"Frequency\")\n",
    "plt.grid(True)\n",
    "plt.show()"
   ]
  },
  {
   "cell_type": "markdown",
   "metadata": {},
   "source": [
    "We could get rid of outliers within a certain range when data processing. Log processing seems to do much better"
   ]
  },
  {
   "cell_type": "markdown",
   "metadata": {},
   "source": [
    "### passengers"
   ]
  },
  {
   "cell_type": "code",
   "execution_count": 18,
   "metadata": {},
   "outputs": [
    {
     "name": "stdout",
     "output_type": "stream",
     "text": [
      "The min and max of the number of passengers is: 0 and 6\n"
     ]
    }
   ],
   "source": [
    "print(f\"The min and max of the number of passengers is: {pdf['passenger_count'].min()} and {pdf['passenger_count'].max()}\")"
   ]
  },
  {
   "cell_type": "code",
   "execution_count": 14,
   "metadata": {},
   "outputs": [
    {
     "name": "stdout",
     "output_type": "stream",
     "text": [
      "The average number of passengers is 1.6575888568683959\n"
     ]
    }
   ],
   "source": [
    "print(f\"The average number of passengers is {pdf['passenger_count'].mean()}\")"
   ]
  },
  {
   "cell_type": "code",
   "execution_count": 16,
   "metadata": {},
   "outputs": [
    {
     "data": {
      "image/png": "[encoded data removed]",
      "text/plain": [
       "<Figure size 1000x600 with 1 Axes>"
      ]
     },
     "metadata": {},
     "output_type": "display_data"
    }
   ],
   "source": [
    "plt.figure(figsize=(10,6))\n",
    "plt.hist(pdf['passenger_count'], bins=5, color='blue', edgecolor='black')\n",
    "plt.title(\"Histogram of the passenger count\")\n",
    "plt.xlabel(\"Passenger count\")\n",
    "plt.ylabel(\"Frequency\")\n",
    "plt.grid(True)\n",
    "plt.show()"
   ]
  },
  {
   "cell_type": "markdown",
   "metadata": {},
   "source": [
    "The number of passengers is also more skewed to the right, as it is more likely for there to be taxi rides with few riders than with big parties. "
   ]
  },
  {
   "cell_type": "code",
   "execution_count": null,
   "metadata": {},
   "outputs": [],
   "source": []
  }
 ],
 "metadata": {
  "kernelspec": {
   "display_name": "Python 3",
   "language": "python",
   "name": "python3"
  },
  "language_info": {
   "codemirror_mode": {
    "name": "ipython",
    "version": 3
   },
   "file_extension": ".py",
   "mimetype": "text/x-python",
   "name": "python",
   "nbconvert_exporter": "python",
   "pygments_lexer": "ipython3",
   "version": "3.10.14"
  }
 },
 "nbformat": 4,
 "nbformat_minor": 2
}
